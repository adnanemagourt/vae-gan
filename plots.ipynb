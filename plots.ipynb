{
 "cells": [
  {
   "cell_type": "code",
   "execution_count": null,
   "id": "89b122fa",
   "metadata": {},
   "outputs": [],
   "source": []
  },
  {
   "cell_type": "code",
   "execution_count": 1,
   "id": "9bffc12a",
   "metadata": {},
   "outputs": [
    {
     "name": "stderr",
     "output_type": "stream",
     "text": [
      "usage: ipykernel_launcher.py [-h] csv_file\n",
      "ipykernel_launcher.py: error: the following arguments are required: csv_file\n"
     ]
    },
    {
     "ename": "SystemExit",
     "evalue": "2",
     "output_type": "error",
     "traceback": [
      "An exception has occurred, use %tb to see the full traceback.\n",
      "\u001b[1;31mSystemExit\u001b[0m\u001b[1;31m:\u001b[0m 2\n"
     ]
    },
    {
     "name": "stderr",
     "output_type": "stream",
     "text": [
      "c:\\Users\\mahmo\\anaconda3\\envs\\env10\\lib\\site-packages\\IPython\\core\\interactiveshell.py:3585: UserWarning: To exit: use 'exit', 'quit', or Ctrl-D.\n",
      "  warn(\"To exit: use 'exit', 'quit', or Ctrl-D.\", stacklevel=1)\n"
     ]
    }
   ],
   "source": [
    "import pandas as pd\n",
    "import matplotlib.pyplot as plt\n",
    "import seaborn as sns\n",
    "import argparse\n",
    "\n",
    "def plot_vae_gan_comparison(csv_file):\n",
    "    # Set the style for the plot\n",
    "    plt.style.use('seaborn-v0_8-darkgrid')\n",
    "    sns.set_context(\"notebook\", font_scale=1.4)\n",
    "    \n",
    "    # Read the CSV data\n",
    "    df = pd.read_csv(csv_file)\n",
    "    \n",
    "    # Create a figure with a specific size\n",
    "    fig, ax = plt.subplots(figsize=(12, 8))\n",
    "    \n",
    "    # Get the column names\n",
    "    bpp_col = df.columns[0]  # Assuming first column is BPP\n",
    "    model_cols = df.columns[1:]  # All other columns are models\n",
    "    \n",
    "    # Plot each model as a separate line with markers\n",
    "    markers = ['o', 's', '^', 'D', 'v', '<', '>', 'p', '*', 'h']\n",
    "    for i, model in enumerate(model_cols):\n",
    "        marker = markers[i % len(markers)]  # Cycle through markers if more models\n",
    "        ax.plot(df[bpp_col], df[model], '-', marker=marker, linewidth=2.5, \n",
    "                markersize=8, label=model)\n",
    "    \n",
    "    # Set the title and labels\n",
    "    ax.set_title('Comparison of VAE-GAN Models', fontsize=20, pad=20)\n",
    "    ax.set_xlabel(bpp_col, fontsize=16)\n",
    "    ax.set_ylabel('Performance Metric', fontsize=16)\n",
    "    \n",
    "    # Add a grid\n",
    "    ax.grid(True, linestyle='--', alpha=0.7)\n",
    "    \n",
    "    # Add a legend\n",
    "    ax.legend(loc='best', fontsize=14, frameon=True, framealpha=0.9)\n",
    "    \n",
    "    # Set y-axis limits slightly beyond the data range\n",
    "    min_val = df[model_cols].min().min()\n",
    "    max_val = df[model_cols].max().max()\n",
    "    padding = (max_val - min_val) * 0.1\n",
    "    ax.set_ylim(min_val - padding, max_val + padding)\n",
    "    \n",
    "    # Adjust the layout\n",
    "    plt.tight_layout()\n",
    "    \n",
    "    # Save the figure\n",
    "    output_file = 'gan_comparison.png'\n",
    "    plt.savefig(output_file, dpi=300, bbox_inches='tight')\n",
    "    print(f\"Plot saved as {output_file}\")\n",
    "    \n",
    "    # Show the plot\n",
    "    plt.show()\n",
    "\n",
    "if __name__ == \"__main__\":\n",
    "    parser = argparse.ArgumentParser(description='Plot VAE-GAN comparison from CSV file.')\n",
    "    parser.add_argument('csv_file', help='Path to the CSV file containing the data')\n",
    "    args = parser.parse_args()\n",
    "    \n",
    "    plot_vae_gan_comparison(args.csv_file)"
   ]
  },
  {
   "cell_type": "code",
   "execution_count": null,
   "id": "cbe6c9fd",
   "metadata": {},
   "outputs": [],
   "source": []
  }
 ],
 "metadata": {
  "kernelspec": {
   "display_name": "env10",
   "language": "python",
   "name": "python3"
  },
  "language_info": {
   "codemirror_mode": {
    "name": "ipython",
    "version": 3
   },
   "file_extension": ".py",
   "mimetype": "text/x-python",
   "name": "python",
   "nbconvert_exporter": "python",
   "pygments_lexer": "ipython3",
   "version": "3.10.16"
  }
 },
 "nbformat": 4,
 "nbformat_minor": 5
}
